{
  "cells": [
    {
      "cell_type": "markdown",
      "metadata": {
        "id": "view-in-github",
        "colab_type": "text"
      },
      "source": [
        "<a href=\"https://colab.research.google.com/github/Elian19-01/HE/blob/main/project_2.ipynb\" target=\"_parent\"><img src=\"https://colab.research.google.com/assets/colab-badge.svg\" alt=\"Open In Colab\"/></a>"
      ]
    },
    {
      "cell_type": "markdown",
      "metadata": {
        "id": "-nO_OLJVBMgU"
      },
      "source": [
        "# Project 2 - Algorithm Analysis"
      ]
    },
    {
      "cell_type": "markdown",
      "metadata": {
        "id": "cjwyW127BMgd"
      },
      "source": [
        "#las funciones solo sirven con mis direciones"
      ]
    },
    {
      "cell_type": "code",
      "execution_count": 7,
      "metadata": {
        "id": "_oZiCHeOBMgf"
      },
      "outputs": [],
      "source": [
        "import numpy as np\n",
        "import matplotlib.pyplot as plt\n",
        "import networkx as nx\n",
        "import sys\n",
        "import random\n",
        "from collections import defaultdict\n",
        "\n",
        "\n",
        "def get_graph(source):\n",
        "\n",
        "    with open(source) as file_name:\n",
        "        graf = np.loadtxt(file_name, delimiter = ',')\n",
        "        graf = graf.astype(int)\n",
        "    file_name.close()\n",
        "    return graf\n",
        "\n",
        "def show_graph(graph, coolor):\n",
        "\n",
        "    G = nx.from_numpy_matrix(graph)\n",
        "\n",
        "    pos = nx.spring_layout(G, seed= random.randint(1,20))\n",
        "\n",
        "    nx.draw_networkx_nodes(G, pos, node_size=700, node_color='w', edgecolors=coolor)\n",
        "    nx.draw_networkx_edges(G, pos, width=2)\n",
        "    nx.draw_networkx_edges(G, pos, width=2, alpha=0.5, edge_color=coolor)\n",
        "\n",
        "    nx.draw_networkx_labels(G, pos, font_size=20, font_family=\"sans-serif\")\n",
        "\n",
        "    labels = nx.get_edge_attributes(G,'weight')\n",
        "    nx.draw_networkx_edge_labels(G,pos,edge_labels=labels)\n",
        "\n",
        "    plt.show()"
      ]
    },
    {
      "cell_type": "code",
      "execution_count": 8,
      "metadata": {
        "colab": {
          "base_uri": "https://localhost:8080/"
        },
        "id": "nH19vtn6BMgi",
        "outputId": "f39f769e-b46c-4f93-9dfa-d2d791b23650"
      },
      "outputs": [
        {
          "output_type": "stream",
          "name": "stdout",
          "text": [
            "[[ 0  4  0  0  0  0  0  8  0]\n",
            " [ 4  0  8  0  0  0  0 11  0]\n",
            " [ 0  8  0  7  0  4  0  0  2]\n",
            " [ 0  0  7  0  9 14  0  0  0]\n",
            " [ 0  0  0  9  0 10  0  0  0]\n",
            " [ 0  0  4 14 10  0  2  0  0]\n",
            " [ 0  0  0  0  0  2  0  1  6]\n",
            " [ 8 11  0  0  0  0  1  0  7]\n",
            " [ 0  0  2  0  0  0  6  7  0]]\n"
          ]
        }
      ],
      "source": [
        "graph_1 = get_graph(\"grafo1.csv\")\n",
        "print(graph_1)"
      ]
    },
    {
      "cell_type": "code",
      "execution_count": 9,
      "metadata": {
        "colab": {
          "base_uri": "https://localhost:8080/"
        },
        "id": "ZljG9eDABMgk",
        "outputId": "827e9093-f6c2-4f32-9e11-e9f2d4889411"
      },
      "outputs": [
        {
          "output_type": "stream",
          "name": "stdout",
          "text": [
            "[[ 0  2  0  0  0  0  0  7  0]\n",
            " [ 3  0  7  0  0  0  0  9  0]\n",
            " [ 0  6  0  8  0  5  0  0  3]\n",
            " [ 0  0  6  0  7 10  0  0  0]\n",
            " [ 0  0  0  8  0 12  0  0  0]\n",
            " [ 0  0  3 11  9  0  3  0  0]\n",
            " [ 0  0  0  0  0  1  0  2  7]\n",
            " [ 6 10  0  0  0  0  2  0  8]\n",
            " [ 0  0  1  0  0  0  5  9  0]]\n"
          ]
        }
      ],
      "source": [
        "graph_2 = get_graph(\"grafo2.csv\")\n",
        "print(graph_2)"
      ]
    },
    {
      "cell_type": "code",
      "execution_count": 10,
      "metadata": {
        "colab": {
          "base_uri": "https://localhost:8080/"
        },
        "id": "DnavlWrIBMgl",
        "outputId": "6d68cfd0-ba83-4d5a-82a5-e3ed22180e28"
      },
      "outputs": [
        {
          "output_type": "stream",
          "name": "stdout",
          "text": [
            "[[ 0  1  0  0  0  0  0  3  0]\n",
            " [ 2  0  5  0  0  0  0  8  0]\n",
            " [ 0  6  0  6  0  5  0  0  1]\n",
            " [ 0  0  9  0  7 11  0  0  0]\n",
            " [ 0  0  0  7  0  9  0  0  0]\n",
            " [ 0  0  5 11 12  0  3  0  0]\n",
            " [ 0  0  0  0  0  3  0  3  5]\n",
            " [ 6  9  0  0  0  0  2  0  6]\n",
            " [ 0  0  1  0  0  0  5  8  0]]\n"
          ]
        }
      ],
      "source": [
        "graph_3 = get_graph(\"grafo3.csv\")\n",
        "print(graph_3)"
      ]
    },
    {
      "cell_type": "code",
      "execution_count": 11,
      "metadata": {
        "colab": {
          "base_uri": "https://localhost:8080/",
          "height": 247
        },
        "id": "VHfCKBqUBMgm",
        "outputId": "94a24dc5-c089-4881-fa11-ebcfe8ebc221"
      },
      "outputs": [
        {
          "output_type": "display_data",
          "data": {
            "text/plain": [
              "<Figure size 432x288 with 1 Axes>"
            ],
            "image/png": "[encoded data removed]"
          },
          "metadata": {}
        }
      ],
      "source": [
        "show_graph(graph_1,'b')"
      ]
    },
    {
      "cell_type": "code",
      "execution_count": 12,
      "metadata": {
        "colab": {
          "base_uri": "https://localhost:8080/",
          "height": 247
        },
        "id": "W7RpAfvXBMgn",
        "outputId": "c67103d1-00a1-478c-9566-269b5b11b753"
      },
      "outputs": [
        {
          "output_type": "display_data",
          "data": {
            "text/plain": [
              "<Figure size 432x288 with 1 Axes>"
            ],
            "image/png": "[encoded data removed]"
          },
          "metadata": {}
        }
      ],
      "source": [
        "show_graph(graph_2,'r')"
      ]
    },
    {
      "cell_type": "code",
      "execution_count": 13,
      "metadata": {
        "colab": {
          "base_uri": "https://localhost:8080/",
          "height": 247
        },
        "id": "asJRUHSiBMgo",
        "outputId": "b034e5bf-fc00-465c-c871-03528f422c0a"
      },
      "outputs": [
        {
          "output_type": "display_data",
          "data": {
            "text/plain": [
              "<Figure size 432x288 with 1 Axes>"
            ],
            "image/png": "[encoded data removed]"
          },
          "metadata": {}
        }
      ],
      "source": [
        "show_graph(graph_3,'g')"
      ]
    },
    {
      "cell_type": "markdown",
      "metadata": {
        "id": "SSjMIBvEBMgq"
      },
      "source": [
        "# Dijkstra Algorithm\n",
        "\n",
        "Given a graph and a source vertex in the graph, find the shortest paths from the source to all vertices in the given graph. 9 vertices graph do not forget to start from 0 and finish at 8 this would be 9 vertices"
      ]
    },
    {
      "cell_type": "markdown",
      "metadata": {
        "id": "x7iYfMgfBMgq"
      },
      "source": [
        "Please measure the time to process for each algorithm and iterations.\n",
        "Graph them and check performance. "
      ]
    },
    {
      "cell_type": "markdown",
      "metadata": {
        "id": "YAv_8TzhBMgr"
      },
      "source": [
        "Create a matrix with all vertices and their distances to feed the algorithm.\n",
        "9 x 9 matrix like this one.\n",
        "+ 0\t3\t0\t0\t0\t0\t0\t6\t0\n",
        "+ 3\t0\t7\t0\t0\t0\t0\t9\t0\n",
        "+ 0\t6\t0\t8\t0\t3\t0\t0\t1\n",
        "+ 0\t0\t5\t0\t8\t11\t0\t0\t0\n",
        "+ 0\t0\t0\t7\t0\t9\t0\t0\t0\n",
        "+ 0\t0\t3\t11\t7\t0\t1\t0\t0\n",
        "+ 0\t0\t0\t0\t0\t3\t0\t2\t7\n",
        "+ 6\t9\t0\t0\t0\t0\t2\t0\t6\n",
        "+ 0\t0\t1\t0\t0\t0\t5\t8\t0\n",
        "\n",
        "3 different matrices will be given to you in a csv format. They are called grafo1.csv, grafo2.csv and grafo3.csv.\n",
        "Load them into a 2D array and use it as an input.\n",
        "Please make a graphic showing the graph´s vertices and edges with the respective weights or distances. Use any graphic software you may like.\n",
        "I will attach one as an example.\n",
        "Remember to start from the vertex 0.\n",
        "\n"
      ]
    },
    {
      "cell_type": "markdown",
      "metadata": {
        "id": "LP4G6roTBMgs"
      },
      "source": [
        "The Output should look at least like this: \n",
        "\n",
        "+ Vertex   Distance from Source\n",
        "+ 0           1\n",
        "+ 1           3\n",
        "+ 2           5\n",
        "+ 3           0\n",
        "+ 4           8\n",
        "+ 5           10\n",
        "+ 6           5\n",
        "+ 7           13\n",
        "+ 8           6\n",
        "\n",
        "\n"
      ]
    },
    {
      "cell_type": "code",
      "execution_count": 14,
      "metadata": {
        "id": "PVV3h8MFBMgt"
      },
      "outputs": [],
      "source": [
        "# Write your code to calculate the shortest path\n",
        "class Dijkstra():\n",
        " \n",
        "    def __init__(self, vertices):\n",
        "        self.V = vertices\n",
        "        self.graph = [[0 for column in range(vertices)]\n",
        "                    for row in range(vertices)]\n",
        " \n",
        "    def printSolution(self, dist):\n",
        "        print(\"Vertex \\tDistance from Source\")\n",
        "        for node in range(self.V):\n",
        "            print(node, \"\\t\", dist[node])\n",
        " \n",
        "    def minDistance(self, dist, sptSet):\n",
        "\n",
        "        min = sys.maxsize\n",
        "\n",
        "        for u in range(self.V):\n",
        "            if dist[u] < min and sptSet[u] == False:\n",
        "                min = dist[u]\n",
        "                min_index = u\n",
        " \n",
        "        return min_index\n",
        " \n",
        "    def dijkstra(self, src):\n",
        " \n",
        "        dist = [sys.maxsize] * self.V\n",
        "        dist[src] = 0\n",
        "        sptSet = [False] * self.V\n",
        " \n",
        "        for cout in range(self.V):\n",
        " \n",
        "            x = self.minDistance(dist, sptSet)\n",
        " \n",
        "            sptSet[x] = True\n",
        "\n",
        "            for y in range(self.V):\n",
        "                if self.graph[x][y] > 0 and sptSet[y] == False and \\\n",
        "                dist[y] > dist[x] + self.graph[x][y]:\n",
        "                        dist[y] = dist[x] + self.graph[x][y]\n",
        " \n",
        "        self.printSolution(dist)"
      ]
    },
    {
      "cell_type": "code",
      "execution_count": 15,
      "metadata": {
        "colab": {
          "base_uri": "https://localhost:8080/"
        },
        "id": "xdMGuoKDBMgv",
        "outputId": "b2edaf84-8e0f-4086-8898-74dd2284570b"
      },
      "outputs": [
        {
          "output_type": "stream",
          "name": "stdout",
          "text": [
            "Vertex \tDistance from Source\n",
            "0 \t 0\n",
            "1 \t 4\n",
            "2 \t 12\n",
            "3 \t 19\n",
            "4 \t 21\n",
            "5 \t 11\n",
            "6 \t 9\n",
            "7 \t 8\n",
            "8 \t 14\n",
            "CPU times: user 6.68 ms, sys: 3.22 ms, total: 9.89 ms\n",
            "Wall time: 13.1 ms\n"
          ]
        }
      ],
      "source": [
        "g1 = Dijkstra(9)\n",
        "g1.graph = graph_1\n",
        "%time g1.dijkstra(0);"
      ]
    },
    {
      "cell_type": "code",
      "execution_count": 16,
      "metadata": {
        "colab": {
          "base_uri": "https://localhost:8080/"
        },
        "id": "j8NhArFZBMgw",
        "outputId": "09417a69-8d3b-4f44-efa5-d1ea110f4691"
      },
      "outputs": [
        {
          "output_type": "stream",
          "name": "stdout",
          "text": [
            "Vertex \tDistance from Source\n",
            "0 \t 0\n",
            "1 \t 2\n",
            "2 \t 9\n",
            "3 \t 17\n",
            "4 \t 19\n",
            "5 \t 10\n",
            "6 \t 9\n",
            "7 \t 7\n",
            "8 \t 12\n",
            "CPU times: user 1.24 ms, sys: 35 µs, total: 1.28 ms\n",
            "Wall time: 915 µs\n"
          ]
        }
      ],
      "source": [
        "g2 = Dijkstra(9)\n",
        "g2.graph = graph_2\n",
        "%time g2.dijkstra(0);"
      ]
    },
    {
      "cell_type": "code",
      "execution_count": 17,
      "metadata": {
        "colab": {
          "base_uri": "https://localhost:8080/"
        },
        "id": "ZZlR_j_UBMgx",
        "outputId": "1f2a6576-3d4b-41e5-fbb4-2037b6394cb4"
      },
      "outputs": [
        {
          "output_type": "stream",
          "name": "stdout",
          "text": [
            "Vertex \tDistance from Source\n",
            "0 \t 0\n",
            "1 \t 1\n",
            "2 \t 6\n",
            "3 \t 12\n",
            "4 \t 19\n",
            "5 \t 8\n",
            "6 \t 5\n",
            "7 \t 3\n",
            "8 \t 7\n",
            "CPU times: user 1.57 ms, sys: 95 µs, total: 1.66 ms\n",
            "Wall time: 1.14 ms\n"
          ]
        }
      ],
      "source": [
        "g3 = Dijkstra(9)\n",
        "g3.graph = graph_3\n",
        "%time g3.dijkstra(0);"
      ]
    },
    {
      "cell_type": "markdown",
      "metadata": {
        "id": "aM1ro06RBMgx"
      },
      "source": [
        "# MST Prims Algorithm\n",
        "Based on the file prims_grafo_9_csv.csv create the MST using Prims Algorithm and draw the graph using any sofwware you may like.\n",
        "Upload the file into a matrix and feed it to the algorith to calculate the MST.\n",
        "The data in the CSV file has a 9 x 9 matrix describing a graph.\n",
        "\n",
        "* MST Properties\n",
        "    - Graph is undirected\n",
        "\n",
        "    - MST is a TREE\n",
        "        + A tree is connected acyclic graph: it has no cycles (ie no closed paths)\n",
        "        + Number of edges in a tree: |V| - 1\n",
        "\n",
        "    - MST is a SPANNING Tree\n",
        "        + Nodes of MST = Nodes of G\n",
        "        + MST contains a path between any two nodes\n",
        "\n",
        "    - MST is a MINIMUM Spanning Tree\n",
        "        + Sum of edges is a minimum\n",
        "\n",
        "    - MST may not be unique"
      ]
    },
    {
      "cell_type": "markdown",
      "metadata": {
        "id": "9bwLOx9_BMgy"
      },
      "source": [
        "Print the output like this. Showing the vertices and the weight between them\n",
        "- Edge    Weight\n",
        "- 0 - 1    8\n",
        "- 5 - 2    3\n",
        "- 1 - 3    5\n",
        "- 5 - 4    7\n",
        "- 7 - 5    1\n",
        "- 3 - 6    4\n",
        "- 3 - 7    5\n",
        "- 6 - 8    3"
      ]
    },
    {
      "cell_type": "markdown",
      "metadata": {
        "id": "ot4A3m2EBMgz"
      },
      "source": [
        "Do the same for the matrix Prims_grafo_matrix_csv.csv. This is an 8 x 8 graph. Draw the graph with any software of your choice.\n",
        "Make sure to print the matrix you´ve uploaded to verify."
      ]
    },
    {
      "cell_type": "markdown",
      "metadata": {
        "id": "f12RLL8WBMgz"
      },
      "source": [
        "Print the output like this. Showing the vertices and the weight between them\n",
        "- Edge    Weight\n",
        "+ 3 - 1    2\n",
        "+ 5 - 2    4\n",
        "+ 0 - 3    10\n",
        "+ 3 - 4    4\n",
        "+ 3 - 5    2\n",
        "+ 4 - 6    5\n",
        "+ 6 - 7    8"
      ]
    },
    {
      "cell_type": "code",
      "execution_count": 18,
      "metadata": {
        "id": "9Ypmn8dVBMg0"
      },
      "outputs": [],
      "source": [
        "# Write Prims Algorthim code to find the MST\n",
        "class MST():\n",
        " \n",
        "    def __init__(self, vertices):\n",
        "        self.V = vertices\n",
        "        self.graph = [[0 for column in range(vertices)]\n",
        "                    for row in range(vertices)]\n",
        "\n",
        "    def printMST(self, parent):\n",
        "        print (\"Edge \\tWeight\")\n",
        "        for i in range(1, self.V):\n",
        "            print (parent[i], \"-\", i, \"\\t\", self.graph[i][parent[i]])\n",
        "\n",
        "    def minKey(self, key, mstSet):\n",
        "\n",
        "        min = sys.maxsize\n",
        " \n",
        "        for v in range(self.V):\n",
        "            if key[v] < min and mstSet[v] == False:\n",
        "                min = key[v]\n",
        "                min_index = v\n",
        " \n",
        "        return min_index\n",
        " \n",
        "    def primMST(self):\n",
        " \n",
        "        key = [sys.maxsize] * self.V\n",
        "        parent = [None] * self.V\n",
        "        key[0] = 0\n",
        "        mstSet = [False] * self.V\n",
        " \n",
        "        parent[0] = -1\n",
        " \n",
        "        for cout in range(self.V):\n",
        " \n",
        "            u = self.minKey(key, mstSet)\n",
        " \n",
        "            mstSet[u] = True\n",
        " \n",
        "            for v in range(self.V):\n",
        " \n",
        "                if self.graph[u][v] > 0 and mstSet[v] == False and key[v] > self.graph[u][v]:\n",
        "                        key[v] = self.graph[u][v]\n",
        "                        parent[v] = u\n",
        " \n",
        "        self.printMST(parent)"
      ]
    },
    {
      "cell_type": "code",
      "execution_count": 24,
      "metadata": {
        "id": "jPdBg_NPBMg4"
      },
      "outputs": [],
      "source": [
        ""
      ]
    },
    {
      "cell_type": "markdown",
      "metadata": {
        "id": "3hPfC9JFBMg4"
      },
      "source": [
        "# Prims Algorithm with Binary Heap\n",
        "Use the matrices in CSV format and sort them with Prims Algorithm and using Binary Heap and check the results. \n",
        "+ Prims_grafo_matrix_csv.csv\n",
        "+ prims_grafo_9_csv.csv\n",
        "+ Prims_grafo_matrix_heap.csv"
      ]
    },
    {
      "cell_type": "markdown",
      "metadata": {
        "id": "92b6wDqjBMg4"
      },
      "source": [
        "Print the results in the following way.\n",
        "+ Source - Destination\n",
        "+ 3 -  1\n",
        "+ 5 -  2\n",
        "+ 0 -  3\n",
        "+ 3 -  4\n",
        "+ 3 -  5\n",
        "+ 4 -  6\n",
        "+ 6 -  7\n",
        "+ 7 -  8\n"
      ]
    },
    {
      "cell_type": "code",
      "execution_count": 41,
      "metadata": {
        "id": "PXSCLZwXBMg4"
      },
      "outputs": [],
      "source": [
        "# Write your code here"
      ]
    },
    {
      "cell_type": "code",
      "execution_count": 36,
      "metadata": {
        "colab": {
          "base_uri": "https://localhost:8080/"
        },
        "id": "OQUzvZxQBMg7",
        "outputId": "829efcd0-6f0c-4ed9-e124-9f50d516812e"
      },
      "outputs": [
        {
          "output_type": "stream",
          "name": "stdout",
          "text": [
            "[[ 0  4  0  0  0  0  0  8  0]\n",
            " [ 0  0  8  0  0  0  0 11  0]\n",
            " [ 0  0  0  7  0  4  0  0  2]\n",
            " [ 0  0  0  0  9 14  0  0  0]\n",
            " [ 0  0  0  0  0 10  0  0  0]\n",
            " [ 0  0  0  0  0  0  2  0  0]\n",
            " [ 0  0  0  0  0  0  0  1  6]\n",
            " [ 0  0  0  0  0  0  0  0  7]\n",
            " [ 0  0  0  0  0  0  0  0  0]]\n"
          ]
        }
      ],
      "source": [
        "Prims_grafo_matrix_heap = get_graph('Prims_grafo_matrix_heap.csv')\n",
        "print(Prims_grafo_matrix_heap)"
      ]
    },
    {
      "cell_type": "code",
      "execution_count": 37,
      "metadata": {
        "colab": {
          "base_uri": "https://localhost:8080/",
          "height": 247
        },
        "id": "Gr6MH1LNBMg7",
        "outputId": "b9dd5750-81b7-4154-f182-25e844315a3a"
      },
      "outputs": [
        {
          "output_type": "display_data",
          "data": {
            "text/plain": [
              "<Figure size 432x288 with 1 Axes>"
            ],
            "image/png": "[encoded data removed]"
          },
          "metadata": {}
        }
      ],
      "source": [
        "show_graph(Prims_grafo_matrix_heap, 'b')"
      ]
    },
    {
      "cell_type": "code",
      "execution_count": 38,
      "metadata": {
        "colab": {
          "base_uri": "https://localhost:8080/"
        },
        "id": "phlYmplxBMg7",
        "outputId": "fff5328e-e86c-40e9-c4be-58773b9694ee"
      },
      "outputs": [
        {
          "output_type": "stream",
          "name": "stdout",
          "text": [
            "Source - Destination\n",
            " 0 -  1\n",
            " 5 -  2\n",
            " 2 -  3\n",
            " 3 -  4\n",
            " 6 -  5\n",
            " 7 -  6\n",
            " 0 -  7\n",
            " 2 -  8\n",
            "CPU times: user 1.8 ms, sys: 2.05 ms, total: 3.85 ms\n",
            "Wall time: 3.86 ms\n"
          ]
        }
      ],
      "source": [
        "%time run_Heap(Prims_grafo_matrix_heap)"
      ]
    },
    {
      "cell_type": "code",
      "source": [
        ""
      ],
      "metadata": {
        "id": "SDjknhYuHVLE"
      },
      "execution_count": 38,
      "outputs": []
    }
  ],
  "metadata": {
    "kernelspec": {
      "display_name": "Python 3",
      "language": "python",
      "name": "python3"
    },
    "language_info": {
      "codemirror_mode": {
        "name": "ipython",
        "version": 3
      },
      "file_extension": ".py",
      "mimetype": "text/x-python",
      "name": "python",
      "nbconvert_exporter": "python",
      "pygments_lexer": "ipython3",
      "version": "3.8.8"
    },
    "colab": {
      "name": "project_2.ipynb",
      "provenance": [],
      "include_colab_link": true
    }
  },
  "nbformat": 4,
  "nbformat_minor": 0
}